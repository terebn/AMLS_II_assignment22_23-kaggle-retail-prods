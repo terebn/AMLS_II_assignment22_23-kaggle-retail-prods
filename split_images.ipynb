{
 "cells": [
  {
   "cell_type": "code",
   "execution_count": 1,
   "metadata": {},
   "outputs": [],
   "source": [
    "import pandas as pd\n",
    "import os\n",
    "import pathlib"
   ]
  },
  {
   "cell_type": "code",
   "execution_count": 2,
   "metadata": {},
   "outputs": [],
   "source": [
    "data_path = pathlib.Path('/Users/teresabono/Documents/UCL/Task/kaggle-retail-prods/datasets')\n",
    "image_dir = data_path / 'retail-products-classification' / 'train' / 'train'\n",
    "csv_file = data_path / 'retail-products-classification' / 'train.csv'\n",
    "\n",
    "jpeg_names = os.listdir(image_dir)\n",
    "\n",
    "# training categories and labels\n",
    "data = pd.read_csv(data_path / 'retail-products-classification' / 'train.csv')\n",
    "labels = pd.read_csv(data_path / 'labels.csv')\n",
    "data = data.merge(labels, on='categories')"
   ]
  },
  {
   "cell_type": "code",
   "execution_count": 3,
   "metadata": {},
   "outputs": [
    {
     "data": {
      "text/html": [
       "<div>\n",
       "<style scoped>\n",
       "    .dataframe tbody tr th:only-of-type {\n",
       "        vertical-align: middle;\n",
       "    }\n",
       "\n",
       "    .dataframe tbody tr th {\n",
       "        vertical-align: top;\n",
       "    }\n",
       "\n",
       "    .dataframe thead th {\n",
       "        text-align: right;\n",
       "    }\n",
       "</style>\n",
       "<table border=\"1\" class=\"dataframe\">\n",
       "  <thead>\n",
       "    <tr style=\"text-align: right;\">\n",
       "      <th></th>\n",
       "      <th>ImgId</th>\n",
       "      <th>label</th>\n",
       "    </tr>\n",
       "  </thead>\n",
       "  <tbody>\n",
       "    <tr>\n",
       "      <th>0</th>\n",
       "      <td>B000HYL1V6</td>\n",
       "      <td>10</td>\n",
       "    </tr>\n",
       "    <tr>\n",
       "      <th>1</th>\n",
       "      <td>B0002X7YCM</td>\n",
       "      <td>10</td>\n",
       "    </tr>\n",
       "    <tr>\n",
       "      <th>2</th>\n",
       "      <td>B0006O87O6</td>\n",
       "      <td>10</td>\n",
       "    </tr>\n",
       "    <tr>\n",
       "      <th>3</th>\n",
       "      <td>B0008FV4VQ</td>\n",
       "      <td>10</td>\n",
       "    </tr>\n",
       "    <tr>\n",
       "      <th>4</th>\n",
       "      <td>B000BDH9KU</td>\n",
       "      <td>10</td>\n",
       "    </tr>\n",
       "    <tr>\n",
       "      <th>...</th>\n",
       "      <td>...</td>\n",
       "      <td>...</td>\n",
       "    </tr>\n",
       "    <tr>\n",
       "      <th>46224</th>\n",
       "      <td>B00025YUB8</td>\n",
       "      <td>11</td>\n",
       "    </tr>\n",
       "    <tr>\n",
       "      <th>46225</th>\n",
       "      <td>B0002AQU16</td>\n",
       "      <td>11</td>\n",
       "    </tr>\n",
       "    <tr>\n",
       "      <th>46226</th>\n",
       "      <td>B0002A6VCE</td>\n",
       "      <td>11</td>\n",
       "    </tr>\n",
       "    <tr>\n",
       "      <th>46227</th>\n",
       "      <td>B0002AT59K</td>\n",
       "      <td>11</td>\n",
       "    </tr>\n",
       "    <tr>\n",
       "      <th>46228</th>\n",
       "      <td>B0002ATA90</td>\n",
       "      <td>11</td>\n",
       "    </tr>\n",
       "  </tbody>\n",
       "</table>\n",
       "<p>46229 rows × 2 columns</p>\n",
       "</div>"
      ],
      "text/plain": [
       "            ImgId  label\n",
       "0      B000HYL1V6     10\n",
       "1      B0002X7YCM     10\n",
       "2      B0006O87O6     10\n",
       "3      B0008FV4VQ     10\n",
       "4      B000BDH9KU     10\n",
       "...           ...    ...\n",
       "46224  B00025YUB8     11\n",
       "46225  B0002AQU16     11\n",
       "46226  B0002A6VCE     11\n",
       "46227  B0002AT59K     11\n",
       "46228  B0002ATA90     11\n",
       "\n",
       "[46229 rows x 2 columns]"
      ]
     },
     "execution_count": 3,
     "metadata": {},
     "output_type": "execute_result"
    }
   ],
   "source": [
    "label_map = data[['ImgId', 'label']]\n",
    "label_map"
   ]
  },
  {
   "cell_type": "code",
   "execution_count": 4,
   "metadata": {},
   "outputs": [],
   "source": [
    "from sklearn.model_selection import train_test_split\n",
    "\n",
    "train, test = train_test_split(label_map, test_size=0.2, stratify=label_map['label'])"
   ]
  },
  {
   "cell_type": "code",
   "execution_count": 6,
   "metadata": {},
   "outputs": [],
   "source": [
    "import shutil\n",
    "n_train = 0\n",
    "n_test = 0\n",
    "\n",
    "for img in jpeg_names:\n",
    "\n",
    "    label = label_map.loc[label_map['ImgId'] == img.split('.')[0], 'label'].item()\n",
    "    ImgId = img.split('.')[0]\n",
    "\n",
    "    if  len(train[train['ImgId']==ImgId])>0:\n",
    "        out_path = data_path / 'train' / str(label)\n",
    "        n_train += 1\n",
    "    elif len(test[test['ImgId']==ImgId])>0:\n",
    "        out_path = data_path / 'test' / str(label)\n",
    "        n_test += 1\n",
    "    else:\n",
    "        print(\"not in train nor test\")\n",
    "\n",
    "    out_path.mkdir(parents=True, exist_ok=True)\n",
    "    \n",
    "    source_path = image_dir / img\n",
    "\n",
    "    shutil.copy(source_path, out_path) \n",
    "    "
   ]
  },
  {
   "cell_type": "code",
   "execution_count": null,
   "metadata": {},
   "outputs": [],
   "source": []
  }
 ],
 "metadata": {
  "kernelspec": {
   "display_name": "re-prods",
   "language": "python",
   "name": "re-prods"
  },
  "language_info": {
   "codemirror_mode": {
    "name": "ipython",
    "version": 3
   },
   "file_extension": ".py",
   "mimetype": "text/x-python",
   "name": "python",
   "nbconvert_exporter": "python",
   "pygments_lexer": "ipython3",
   "version": "3.10.9"
  },
  "orig_nbformat": 4
 },
 "nbformat": 4,
 "nbformat_minor": 2
}
